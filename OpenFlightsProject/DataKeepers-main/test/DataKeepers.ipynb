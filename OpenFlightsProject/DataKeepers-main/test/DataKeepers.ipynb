{
 "cells": [
  {
   "cell_type": "markdown",
   "id": "ec5c9790",
   "metadata": {},
   "source": [
    "# Data Keepers"
   ]
  },
  {
   "cell_type": "markdown",
   "id": "062bba95",
   "metadata": {},
   "source": [
    "mongodb ui: localhost:27017/"
   ]
  },
  {
   "cell_type": "markdown",
   "id": "daecb76e",
   "metadata": {},
   "source": [
    "spark ui: localhost:4040/"
   ]
  },
  {
   "cell_type": "markdown",
   "id": "517d0934",
   "metadata": {},
   "source": [
    "### Problem\n",
    "\n",
    "* Given a country X, provide a list of airports operating in country X.\n",
    "* Given a number of stops X, provide a list of airlines having X stops.\n",
    "* Given a code share X for airlines, provide a list of airlines operating with code share X.\n",
    "* Given the option to display active airlines, provide a list of active airlines if selected.\n",
    "* Given the option to display the country or territory with the highest number of airports, provide the country or territory with the highest number of airports if selected.\n",
    "* Given a number of cities X, provide the top X cities with the most incoming and outgoing airlines.\n",
    "* Given two cities X and Y, provide a list of routes connecting cities X and Y.\n",
    "* Given two cities X and Y and a number of stops Z, provide a list of routes connecting cities X and Y with less than Z stops.\n",
    "* Given a city X and number of stops Y, provide a list of cities that can be reached from X within Y stops.\n",
    "* Given all routes, provide the transitive closure of the graph of all routes.\n",
    "\n"
   ]
  },
  {
   "cell_type": "markdown",
   "id": "9cb17906",
   "metadata": {},
   "source": [
    "## Load library"
   ]
  },
  {
   "cell_type": "code",
   "execution_count": 1,
   "id": "cd93e44f",
   "metadata": {
    "ExecuteTime": {
     "end_time": "2022-10-13T01:38:09.305219Z",
     "start_time": "2022-10-13T01:38:09.256413Z"
    }
   },
   "outputs": [],
   "source": [
    "import findspark\n",
    "findspark.init()"
   ]
  },
  {
   "cell_type": "code",
   "execution_count": 2,
   "id": "d75dbc31",
   "metadata": {
    "ExecuteTime": {
     "end_time": "2022-10-13T01:38:10.514283Z",
     "start_time": "2022-10-13T01:38:09.758501Z"
    }
   },
   "outputs": [],
   "source": [
    "import pyspark\n",
    "from pyspark import SparkContext\n",
    "from pyspark.sql import SparkSession\n",
    "from pyspark.sql import SQLContext\n",
    "import matplotlib.pyplot as plt\n",
    "import pandas as pd\n",
    "import time\n",
    "from IPython.display import set_matplotlib_formats\n",
    "import warnings"
   ]
  },
  {
   "cell_type": "markdown",
   "id": "583c4819",
   "metadata": {},
   "source": [
    "## Check Python version"
   ]
  },
  {
   "cell_type": "code",
   "execution_count": 3,
   "id": "50f2761f",
   "metadata": {
    "ExecuteTime": {
     "end_time": "2022-10-13T01:40:51.228328Z",
     "start_time": "2022-10-13T01:40:51.219379Z"
    }
   },
   "outputs": [],
   "source": [
    "import geopandas as gpd"
   ]
  },
  {
   "cell_type": "code",
   "execution_count": 4,
   "id": "e5a9b41f",
   "metadata": {
    "ExecuteTime": {
     "end_time": "2022-10-13T01:19:14.595195Z",
     "start_time": "2022-10-13T01:19:14.584926Z"
    }
   },
   "outputs": [
    {
     "name": "stdout",
     "output_type": "stream",
     "text": [
      "3.3.0\n"
     ]
    }
   ],
   "source": [
    "print(pyspark.__version__)"
   ]
  },
  {
   "cell_type": "markdown",
   "id": "8c9e3d1e",
   "metadata": {},
   "source": [
    "## Build pyspark session"
   ]
  },
  {
   "cell_type": "code",
   "execution_count": 5,
   "id": "4fa4b9c7",
   "metadata": {
    "ExecuteTime": {
     "end_time": "2022-10-13T00:39:23.229853Z",
     "start_time": "2022-10-13T00:39:23.208303Z"
    },
    "scrolled": true
   },
   "outputs": [
    {
     "name": "stdout",
     "output_type": "stream",
     "text": [
      "22/10/13 21:48:55 WARN Utils: Your hostname, NamJunui-MacBookPro.local resolves to a loopback address: 127.0.0.1; using 192.168.0.12 instead (on interface en0)\n",
      "22/10/13 21:48:55 WARN Utils: Set SPARK_LOCAL_IP if you need to bind to another address\n",
      ":: loading settings :: url = jar:file:/opt/homebrew/Caskroom/miniforge/base/envs/pythonProject1/lib/python3.9/site-packages/pyspark/jars/ivy-2.5.0.jar!/org/apache/ivy/core/settings/ivysettings.xml\n"
     ]
    },
    {
     "name": "stderr",
     "output_type": "stream",
     "text": [
      "Ivy Default Cache set to: /Users/namjunlee/.ivy2/cache\n",
      "The jars for the packages stored in: /Users/namjunlee/.ivy2/jars\n",
      "org.mongodb.spark#mongo-spark-connector_2.12 added as a dependency\n",
      ":: resolving dependencies :: org.apache.spark#spark-submit-parent-526a670e-7764-48da-8efe-57e14287bc91;1.0\n",
      "\tconfs: [default]\n",
      "\tfound org.mongodb.spark#mongo-spark-connector_2.12;3.0.1 in central\n",
      "\tfound org.mongodb#mongodb-driver-sync;4.0.5 in central\n",
      "\tfound org.mongodb#bson;4.0.5 in central\n",
      "\tfound org.mongodb#mongodb-driver-core;4.0.5 in central\n",
      ":: resolution report :: resolve 327ms :: artifacts dl 21ms\n",
      "\t:: modules in use:\n",
      "\torg.mongodb#bson;4.0.5 from central in [default]\n",
      "\torg.mongodb#mongodb-driver-core;4.0.5 from central in [default]\n",
      "\torg.mongodb#mongodb-driver-sync;4.0.5 from central in [default]\n",
      "\torg.mongodb.spark#mongo-spark-connector_2.12;3.0.1 from central in [default]\n",
      "\t---------------------------------------------------------------------\n",
      "\t|                  |            modules            ||   artifacts   |\n",
      "\t|       conf       | number| search|dwnlded|evicted|| number|dwnlded|\n",
      "\t---------------------------------------------------------------------\n",
      "\t|      default     |   4   |   0   |   0   |   0   ||   4   |   0   |\n",
      "\t---------------------------------------------------------------------\n",
      ":: retrieving :: org.apache.spark#spark-submit-parent-526a670e-7764-48da-8efe-57e14287bc91\n",
      "\tconfs: [default]\n",
      "\t0 artifacts copied, 4 already retrieved (0kB/12ms)\n"
     ]
    },
    {
     "name": "stdout",
     "output_type": "stream",
     "text": [
      "22/10/13 21:48:56 WARN NativeCodeLoader: Unable to load native-hadoop library for your platform... using builtin-java classes where applicable\n"
     ]
    },
    {
     "name": "stderr",
     "output_type": "stream",
     "text": [
      "Setting default log level to \"WARN\".\n",
      "To adjust logging level use sc.setLogLevel(newLevel). For SparkR, use setLogLevel(newLevel).\n"
     ]
    }
   ],
   "source": [
    "spark = SparkSession.builder\\\n",
    ".appName('DataKeepers')\\\n",
    ".master('local')\\\n",
    ".config('spark.mongodb.input.uri', 'mongodb://127.0.0.1:27017/Aiport')\\\n",
    ".config('spark.mongodb.output.uri', 'mongodb://127.0.0.1:27017/Airport')\\\n",
    ".config('spark.jars.packages', 'org.mongodb.spark:mongo-spark-connector_2.12:3.0.1')\\\n",
    ".getOrCreate()\n"
   ]
  },
  {
   "cell_type": "markdown",
   "id": "3478a6b4",
   "metadata": {},
   "source": [
    "## Loading all collections"
   ]
  },
  {
   "cell_type": "code",
   "execution_count": 6,
   "id": "274fd5ae",
   "metadata": {
    "ExecuteTime": {
     "end_time": "2022-10-13T00:39:23.978354Z",
     "start_time": "2022-10-13T00:39:23.656662Z"
    }
   },
   "outputs": [
    {
     "name": "stderr",
     "output_type": "stream",
     "text": [
      "                                                                                \r"
     ]
    }
   ],
   "source": [
    "start = time.time()\n",
    "airports = spark.read\\\n",
    "    .format('com.mongodb.spark.sql.DefaultSource')\\\n",
    "    .option( \"uri\", \"mongodb://127.0.0.1:27017/Airport.airports\") \\\n",
    "    .load()"
   ]
  },
  {
   "cell_type": "code",
   "execution_count": 7,
   "id": "4b6a1b40",
   "metadata": {
    "ExecuteTime": {
     "end_time": "2022-10-13T00:39:34.979354Z",
     "start_time": "2022-10-13T00:39:34.792739Z"
    }
   },
   "outputs": [],
   "source": [
    "airlines = spark.read\\\n",
    "    .format('com.mongodb.spark.sql.DefaultSource')\\\n",
    "    .option( \"uri\", \"mongodb://127.0.0.1:27017/Airport.airlines\") \\\n",
    "    .load()"
   ]
  },
  {
   "cell_type": "code",
   "execution_count": 8,
   "id": "806376f0",
   "metadata": {
    "ExecuteTime": {
     "end_time": "2022-10-13T00:39:36.726348Z",
     "start_time": "2022-10-13T00:39:36.520912Z"
    }
   },
   "outputs": [],
   "source": [
    "countries = spark.read\\\n",
    "    .format('com.mongodb.spark.sql.DefaultSource')\\\n",
    "    .option( \"uri\", \"mongodb://127.0.0.1:27017/Airport.countries\") \\\n",
    "    .load()"
   ]
  },
  {
   "cell_type": "code",
   "execution_count": 9,
   "id": "7d5f41b9",
   "metadata": {
    "ExecuteTime": {
     "end_time": "2022-10-13T00:39:29.494658Z",
     "start_time": "2022-10-13T00:39:29.315301Z"
    }
   },
   "outputs": [],
   "source": [
    "planes = spark.read\\\n",
    "    .format('com.mongodb.spark.sql.DefaultSource')\\\n",
    "    .option( \"uri\", \"mongodb://127.0.0.1:27017/Airport.planes\") \\\n",
    "    .load()"
   ]
  },
  {
   "cell_type": "code",
   "execution_count": 10,
   "id": "dc4cf8f3",
   "metadata": {
    "ExecuteTime": {
     "end_time": "2022-10-13T00:39:30.646332Z",
     "start_time": "2022-10-13T00:39:30.352695Z"
    }
   },
   "outputs": [
    {
     "name": "stdout",
     "output_type": "stream",
     "text": [
      "Loading time:  6.825713872909546\n"
     ]
    }
   ],
   "source": [
    "routes = spark.read\\\n",
    "    .format('com.mongodb.spark.sql.DefaultSource')\\\n",
    "    .option( \"uri\", \"mongodb://127.0.0.1:27017/Airport.routes\") \\\n",
    "    .load()\n",
    "print(\"Loading time: \", time.time() - start)"
   ]
  },
  {
   "cell_type": "markdown",
   "id": "ef4ad80c",
   "metadata": {},
   "source": [
    "## Check schema"
   ]
  },
  {
   "cell_type": "code",
   "execution_count": 11,
   "id": "ba2ccac7",
   "metadata": {
    "ExecuteTime": {
     "end_time": "2022-10-13T00:39:46.925225Z",
     "start_time": "2022-10-13T00:39:46.908420Z"
    }
   },
   "outputs": [
    {
     "name": "stdout",
     "output_type": "stream",
     "text": [
      "root\n",
      " |-- AirportID: integer (nullable = true)\n",
      " |-- Altitude: integer (nullable = true)\n",
      " |-- City: string (nullable = true)\n",
      " |-- Country: string (nullable = true)\n",
      " |-- DST: string (nullable = true)\n",
      " |-- IATA: string (nullable = true)\n",
      " |-- ICAO: string (nullable = true)\n",
      " |-- Latitude: double (nullable = true)\n",
      " |-- Longitude: double (nullable = true)\n",
      " |-- Name: string (nullable = true)\n",
      " |-- Source: string (nullable = true)\n",
      " |-- Timezone: double (nullable = true)\n",
      " |-- Type: string (nullable = true)\n",
      " |-- TzDatabase: string (nullable = true)\n",
      " |-- _id: struct (nullable = true)\n",
      " |    |-- oid: string (nullable = true)\n",
      "\n"
     ]
    }
   ],
   "source": [
    "airports.printSchema()"
   ]
  },
  {
   "cell_type": "code",
   "execution_count": 12,
   "id": "f5facb82",
   "metadata": {
    "ExecuteTime": {
     "end_time": "2022-10-13T00:39:47.117910Z",
     "start_time": "2022-10-13T00:39:47.107788Z"
    }
   },
   "outputs": [
    {
     "name": "stdout",
     "output_type": "stream",
     "text": [
      "root\n",
      " |-- Active: string (nullable = true)\n",
      " |-- AirlineID: integer (nullable = true)\n",
      " |-- Alias: string (nullable = true)\n",
      " |-- Callsign: string (nullable = true)\n",
      " |-- Country: string (nullable = true)\n",
      " |-- IATA: string (nullable = true)\n",
      " |-- ICAO: string (nullable = true)\n",
      " |-- Name: string (nullable = true)\n",
      " |-- _id: struct (nullable = true)\n",
      " |    |-- oid: string (nullable = true)\n",
      "\n"
     ]
    }
   ],
   "source": [
    "airlines.printSchema()"
   ]
  },
  {
   "cell_type": "code",
   "execution_count": 13,
   "id": "6ad872df",
   "metadata": {
    "ExecuteTime": {
     "end_time": "2022-10-13T00:39:47.314258Z",
     "start_time": "2022-10-13T00:39:47.300253Z"
    }
   },
   "outputs": [
    {
     "name": "stdout",
     "output_type": "stream",
     "text": [
      "root\n",
      " |-- DAFIF: string (nullable = true)\n",
      " |-- ISO: string (nullable = true)\n",
      " |-- Name: string (nullable = true)\n",
      " |-- _id: struct (nullable = true)\n",
      " |    |-- oid: string (nullable = true)\n",
      "\n"
     ]
    }
   ],
   "source": [
    "countries.printSchema()"
   ]
  },
  {
   "cell_type": "code",
   "execution_count": 14,
   "id": "ccc48f8c",
   "metadata": {
    "ExecuteTime": {
     "end_time": "2022-10-13T00:39:47.566863Z",
     "start_time": "2022-10-13T00:39:47.561984Z"
    }
   },
   "outputs": [
    {
     "name": "stdout",
     "output_type": "stream",
     "text": [
      "root\n",
      " |-- IATA: string (nullable = true)\n",
      " |-- ICAO: string (nullable = true)\n",
      " |-- Name: string (nullable = true)\n",
      " |-- _id: struct (nullable = true)\n",
      " |    |-- oid: string (nullable = true)\n",
      "\n"
     ]
    }
   ],
   "source": [
    "planes.printSchema()"
   ]
  },
  {
   "cell_type": "code",
   "execution_count": 15,
   "id": "ca3c8b24",
   "metadata": {
    "ExecuteTime": {
     "end_time": "2022-10-13T00:39:47.793219Z",
     "start_time": "2022-10-13T00:39:47.784655Z"
    }
   },
   "outputs": [
    {
     "name": "stdout",
     "output_type": "stream",
     "text": [
      "root\n",
      " |-- Airline: string (nullable = true)\n",
      " |-- AirlineID: double (nullable = true)\n",
      " |-- Codeshare: string (nullable = true)\n",
      " |-- DestinationAirport: string (nullable = true)\n",
      " |-- DestinationAirportID: double (nullable = true)\n",
      " |-- Equipment: string (nullable = true)\n",
      " |-- SourceAirport: string (nullable = true)\n",
      " |-- SourceAirportID: double (nullable = true)\n",
      " |-- Stops: integer (nullable = true)\n",
      " |-- _id: struct (nullable = true)\n",
      " |    |-- oid: string (nullable = true)\n",
      "\n"
     ]
    }
   ],
   "source": [
    "routes.printSchema()"
   ]
  },
  {
   "cell_type": "markdown",
   "id": "1a00bb81",
   "metadata": {},
   "source": [
    "## Check NULL & Cleaning"
   ]
  },
  {
   "cell_type": "code",
   "execution_count": 16,
   "id": "2fd85ed5",
   "metadata": {
    "ExecuteTime": {
     "end_time": "2022-10-13T00:39:48.294929Z",
     "start_time": "2022-10-13T00:39:48.288659Z"
    }
   },
   "outputs": [],
   "source": [
    "from pyspark.sql.functions import col, isnan, when, count, isnull"
   ]
  },
  {
   "cell_type": "markdown",
   "id": "26788b6e",
   "metadata": {},
   "source": [
    "### Check NULL"
   ]
  },
  {
   "cell_type": "code",
   "execution_count": 17,
   "id": "958cd10d",
   "metadata": {
    "ExecuteTime": {
     "end_time": "2022-10-13T00:39:57.192437Z",
     "start_time": "2022-10-13T00:39:48.818825Z"
    }
   },
   "outputs": [
    {
     "name": "stderr",
     "output_type": "stream",
     "text": [
      "                                                                                \r"
     ]
    },
    {
     "name": "stdout",
     "output_type": "stream",
     "text": [
      "+------+---------+-----+--------+-------+----+----+----+---+\n",
      "|Active|AirlineID|Alias|Callsign|Country|IATA|ICAO|Name|_id|\n",
      "+------+---------+-----+--------+-------+----+----+----+---+\n",
      "|     0|        0|    0|       0|      0|   0|   0|   0|  0|\n",
      "+------+---------+-----+--------+-------+----+----+----+---+\n",
      "\n"
     ]
    },
    {
     "name": "stderr",
     "output_type": "stream",
     "text": [
      "                                                                                \r"
     ]
    },
    {
     "name": "stdout",
     "output_type": "stream",
     "text": [
      "+---------+--------+----+-------+---+----+----+--------+---------+----+------+--------+----+----------+---+\n",
      "|AirportID|Altitude|City|Country|DST|IATA|ICAO|Latitude|Longitude|Name|Source|Timezone|Type|TzDatabase|_id|\n",
      "+---------+--------+----+-------+---+----+----+--------+---------+----+------+--------+----+----------+---+\n",
      "|        0|       0|   0|      0|  0|   0|   0|       0|        0|   0|     0|       0|   0|         0|  0|\n",
      "+---------+--------+----+-------+---+----+----+--------+---------+----+------+--------+----+----------+---+\n",
      "\n"
     ]
    },
    {
     "name": "stderr",
     "output_type": "stream",
     "text": [
      "                                                                                \r"
     ]
    },
    {
     "name": "stdout",
     "output_type": "stream",
     "text": [
      "+-------+---------+---------+------------------+--------------------+---------+-------------+---------------+-----+---+\n",
      "|Airline|AirlineID|Codeshare|DestinationAirport|DestinationAirportID|Equipment|SourceAirport|SourceAirportID|Stops|_id|\n",
      "+-------+---------+---------+------------------+--------------------+---------+-------------+---------------+-----+---+\n",
      "|      0|        0|    53066|                 0|                   0|       18|            0|              0|    0|  0|\n",
      "+-------+---------+---------+------------------+--------------------+---------+-------------+---------------+-----+---+\n",
      "\n",
      "+-----+---+----+---+\n",
      "|DAFIF|ISO|Name|_id|\n",
      "+-----+---+----+---+\n",
      "|    0|  0|   0|  0|\n",
      "+-----+---+----+---+\n",
      "\n",
      "+----+----+----+---+\n",
      "|IATA|ICAO|Name|_id|\n",
      "+----+----+----+---+\n",
      "|   0|   0|   0|  0|\n",
      "+----+----+----+---+\n",
      "\n"
     ]
    }
   ],
   "source": [
    "airlines.select([count(when(isnull(c), c)).alias(c) for c in airlines.columns]).show()\n",
    "airports.select([count(when(isnull(c), c)).alias(c) for c in airports.columns]).show()\n",
    "routes.select([count(when(isnull(c), c)).alias(c) for c in routes.columns]).show()\n",
    "countries.select([count(when(isnull(c), c)).alias(c) for c in countries.columns]).show()\n",
    "planes.select([count(when(isnull(c), c)).alias(c) for c in planes.columns]).show()\n"
   ]
  },
  {
   "cell_type": "markdown",
   "id": "3aa762ae",
   "metadata": {},
   "source": [
    "Above the dataframe, it shows that only routes collection have NULL values. But there are collections where missing values are set in different special languages, so we plan to change all missing values to the same values. ex: \"-\", \"\\\\N\", \"\", \"NaN\" -> \"N/A\"\n",
    "And also, remove the unnecessary columns we solve the our problems."
   ]
  },
  {
   "cell_type": "markdown",
   "id": "b2c2629e",
   "metadata": {},
   "source": [
    "### Data Preprocessing"
   ]
  },
  {
   "cell_type": "markdown",
   "id": "7eafcdb7",
   "metadata": {},
   "source": [
    "##### airports"
   ]
  },
  {
   "cell_type": "code",
   "execution_count": 18,
   "id": "03617174",
   "metadata": {
    "ExecuteTime": {
     "end_time": "2022-10-13T00:40:01.830717Z",
     "start_time": "2022-10-13T00:40:01.604295Z"
    }
   },
   "outputs": [],
   "source": [
    "# airports \n",
    "cols_airports = (\"Altitude\", \"Source\", \"Timezone\", \"Type\", \"TzDatabase\", \"DST\")\n",
    "# drop column\n",
    "airports1 = airports.drop(*cols_airports)\n",
    "# fill NULL\n",
    "airports1 = airports1.fillna(\"N/A\")\n",
    "airports1 = airports1.na.replace(\"-\", \"N/A\")\n",
    "airports1 = airports1.na.replace(\"\\\\N\", \"N/A\")\n",
    "airports1 = airports1.na.replace(\"NaN\", \"N/A\")\n",
    "airports1 = airports1.na.replace(\"\", \"N/A\")"
   ]
  },
  {
   "cell_type": "code",
   "execution_count": 19,
   "id": "08d392a6",
   "metadata": {
    "ExecuteTime": {
     "end_time": "2022-10-13T00:40:04.136187Z",
     "start_time": "2022-10-13T00:40:04.123832Z"
    }
   },
   "outputs": [
    {
     "name": "stdout",
     "output_type": "stream",
     "text": [
      "root\n",
      " |-- AirportID: integer (nullable = true)\n",
      " |-- City: string (nullable = false)\n",
      " |-- Country: string (nullable = false)\n",
      " |-- IATA: string (nullable = false)\n",
      " |-- ICAO: string (nullable = false)\n",
      " |-- Latitude: double (nullable = true)\n",
      " |-- Longitude: double (nullable = true)\n",
      " |-- Name: string (nullable = false)\n",
      " |-- _id: struct (nullable = true)\n",
      " |    |-- oid: string (nullable = true)\n",
      "\n"
     ]
    }
   ],
   "source": [
    "# recheck the schema\n",
    "airports1.printSchema()"
   ]
  },
  {
   "cell_type": "markdown",
   "id": "65e6a1f4",
   "metadata": {},
   "source": [
    "##### airlines"
   ]
  },
  {
   "cell_type": "code",
   "execution_count": 25,
   "id": "054d375e",
   "metadata": {
    "ExecuteTime": {
     "end_time": "2022-10-13T00:40:02.589100Z",
     "start_time": "2022-10-13T00:40:02.425691Z"
    }
   },
   "outputs": [],
   "source": [
    "# airlines\n",
    "cols_airlines = (\"Alias\") # so many empty space\n",
    "# drop column\n",
    "airlines1 = airlines.drop(cols_airlines)\n",
    "# fill NULL\n",
    "airlines1 = airlines1.fillna(\"N/A\")\n",
    "airlines1 = airlines1.na.replace(\"-\", \"N/A\")\n",
    "airlines1 = airlines1.na.replace(\"\\\\N\", \"N/A\")\n",
    "airlines1 = airlines1.na.replace(\"NaN\", \"N/A\")\n",
    "airlines1 = airlines1.na.replace(\"\", \"N/A\")\n",
    "airlines1 = airlines1.na.replace(\"Unknown\", \"N/A\")\n",
    "# drop first row (airlineID = -1)\n",
    "airlines1 = airlines1.where(airlines1.AirlineID > -1)"
   ]
  },
  {
   "cell_type": "code",
   "execution_count": 26,
   "id": "14680d5d",
   "metadata": {
    "ExecuteTime": {
     "end_time": "2022-10-13T00:40:06.532381Z",
     "start_time": "2022-10-13T00:40:06.517721Z"
    }
   },
   "outputs": [
    {
     "name": "stdout",
     "output_type": "stream",
     "text": [
      "root\n",
      " |-- Active: string (nullable = false)\n",
      " |-- AirlineID: integer (nullable = true)\n",
      " |-- Callsign: string (nullable = false)\n",
      " |-- Country: string (nullable = false)\n",
      " |-- IATA: string (nullable = false)\n",
      " |-- ICAO: string (nullable = false)\n",
      " |-- Name: string (nullable = false)\n",
      " |-- _id: struct (nullable = true)\n",
      " |    |-- oid: string (nullable = true)\n",
      "\n"
     ]
    }
   ],
   "source": [
    "# recheck the schema\n",
    "airlines1.printSchema()"
   ]
  },
  {
   "cell_type": "markdown",
   "id": "2d896690",
   "metadata": {},
   "source": [
    "##### planes"
   ]
  },
  {
   "cell_type": "code",
   "execution_count": 27,
   "id": "7b915e5f",
   "metadata": {
    "ExecuteTime": {
     "end_time": "2022-10-13T00:40:07.288262Z",
     "start_time": "2022-10-13T00:40:07.188328Z"
    }
   },
   "outputs": [],
   "source": [
    "# fill NULL\n",
    "planes1 = planes.fillna(\"N/A\")\n",
    "planes1 = planes1.na.replace(\"-\", \"N/A\")\n",
    "planes1 = planes1.na.replace(\"\\\\N\", \"N/A\")\n",
    "planes1 = planes1.na.replace(\"NaN\", \"N/A\")\n",
    "planes1 = planes1.na.replace(\"\", \"N/A\")"
   ]
  },
  {
   "cell_type": "markdown",
   "id": "96c34239",
   "metadata": {},
   "source": [
    "##### countries"
   ]
  },
  {
   "cell_type": "code",
   "execution_count": 28,
   "id": "f839563a",
   "metadata": {
    "ExecuteTime": {
     "end_time": "2022-10-13T00:40:08.007920Z",
     "start_time": "2022-10-13T00:40:07.931376Z"
    }
   },
   "outputs": [],
   "source": [
    "# fill NULL\n",
    "countries1 = countries.fillna(\"N/A\")\n",
    "countries1 = countries1.na.replace(\"-\", \"N/A\")\n",
    "countries1 = countries1.na.replace(\"\\\\N\", \"N/A\")\n",
    "countries1 = countries1.na.replace(\"NaN\", \"N/A\")\n",
    "countries1 = countries1.na.replace(\"\", \"N/A\")"
   ]
  },
  {
   "cell_type": "markdown",
   "id": "00cc1d23",
   "metadata": {},
   "source": [
    "##### routes"
   ]
  },
  {
   "cell_type": "code",
   "execution_count": 29,
   "id": "8bdf173b",
   "metadata": {
    "ExecuteTime": {
     "end_time": "2022-10-13T00:40:08.833188Z",
     "start_time": "2022-10-13T00:40:08.616138Z"
    }
   },
   "outputs": [],
   "source": [
    "# drop column\n",
    "cols_routes = (\"Equipment\") \n",
    "routes1 = routes.drop(cols_routes)\n",
    "# fill NULL\n",
    "routes1 = routes1.fillna(\"N/A\")\n",
    "routes1 = routes1.na.replace(\"-\", \"N/A\")\n",
    "routes1 = routes1.na.replace(\"\\\\N\", \"N/A\")\n",
    "routes1 = routes1.na.replace(\"NaN\", \"N/A\")\n",
    "routes1 = routes1.na.replace(\"\", \"N/A\")\n",
    "# change the value in Codeshare (\"N/A\" to N else Y)\n",
    "routes1 = routes1.replace(\"N/A\",\"N\", [\"Codeshare\"])"
   ]
  },
  {
   "cell_type": "code",
   "execution_count": 30,
   "id": "d0283475",
   "metadata": {
    "ExecuteTime": {
     "end_time": "2022-10-13T00:40:08.934689Z",
     "start_time": "2022-10-13T00:40:08.926560Z"
    }
   },
   "outputs": [
    {
     "name": "stdout",
     "output_type": "stream",
     "text": [
      "root\n",
      " |-- Airline: string (nullable = false)\n",
      " |-- AirlineID: double (nullable = true)\n",
      " |-- Codeshare: string (nullable = false)\n",
      " |-- DestinationAirport: string (nullable = false)\n",
      " |-- DestinationAirportID: double (nullable = true)\n",
      " |-- SourceAirport: string (nullable = false)\n",
      " |-- SourceAirportID: double (nullable = true)\n",
      " |-- Stops: integer (nullable = true)\n",
      " |-- _id: struct (nullable = true)\n",
      " |    |-- oid: string (nullable = true)\n",
      "\n"
     ]
    }
   ],
   "source": [
    "# recheck the schema of routes\n",
    "routes1.printSchema()"
   ]
  },
  {
   "cell_type": "code",
   "execution_count": 31,
   "id": "af81a6ff",
   "metadata": {
    "ExecuteTime": {
     "end_time": "2022-10-13T00:40:10.721386Z",
     "start_time": "2022-10-13T00:40:09.300936Z"
    }
   },
   "outputs": [
    {
     "name": "stderr",
     "output_type": "stream",
     "text": [
      "\r",
      "[Stage 21:>                                                         (0 + 1) / 1]\r"
     ]
    },
    {
     "name": "stdout",
     "output_type": "stream",
     "text": [
      "+-------+---------+---------+------------------+--------------------+-------------+---------------+-----+---+\n",
      "|Airline|AirlineID|Codeshare|DestinationAirport|DestinationAirportID|SourceAirport|SourceAirportID|Stops|_id|\n",
      "+-------+---------+---------+------------------+--------------------+-------------+---------------+-----+---+\n",
      "|      0|        0|        0|                 0|                   0|            0|              0|    0|  0|\n",
      "+-------+---------+---------+------------------+--------------------+-------------+---------------+-----+---+\n",
      "\n"
     ]
    },
    {
     "name": "stderr",
     "output_type": "stream",
     "text": [
      "\r",
      "                                                                                \r"
     ]
    }
   ],
   "source": [
    "# recheck the null of routes\n",
    "routes1.select([count(when(isnull(c), c)).alias(c) for c in routes1.columns]).show()"
   ]
  },
  {
   "cell_type": "markdown",
   "id": "be5b6ba8",
   "metadata": {},
   "source": [
    "## Build Temp "
   ]
  },
  {
   "cell_type": "code",
   "execution_count": 32,
   "id": "6d364d3d",
   "metadata": {
    "ExecuteTime": {
     "end_time": "2022-10-13T00:40:11.314454Z",
     "start_time": "2022-10-13T00:40:11.158338Z"
    }
   },
   "outputs": [],
   "source": [
    "# prepare using SQL\n",
    "aiport_table = airports1.createOrReplaceTempView(\"airports1\")\n",
    "airline_table = airlines1.createOrReplaceTempView(\"airlines1\")\n",
    "country_table = countries1.createOrReplaceTempView(\"countries1\")\n",
    "plane_table = planes1.createOrReplaceTempView(\"planes1\")\n",
    "routes_table = routes1.createOrReplaceTempView(\"routes1\")"
   ]
  },
  {
   "cell_type": "markdown",
   "id": "58f37d5a",
   "metadata": {},
   "source": [
    "## Problems "
   ]
  },
  {
   "cell_type": "markdown",
   "id": "1e7379de",
   "metadata": {},
   "source": [
    "### Problem 1\n",
    "#### Given a country X, provide a list of airports operating in country X."
   ]
  },
  {
   "cell_type": "code",
   "execution_count": 33,
   "id": "05dbd1cf",
   "metadata": {},
   "outputs": [
    {
     "name": "stdout",
     "output_type": "stream",
     "text": [
      "Enter country: Iceland\n",
      "+---------+--------------------+--------------+-------+\n",
      "|AirportID|                Name|          City|Country|\n",
      "+---------+--------------------+--------------+-------+\n",
      "|       11|    Akureyri Airport|      Akureyri|Iceland|\n",
      "|       12| Egilsstaðir Airport|   Egilsstadir|Iceland|\n",
      "|       13|Hornafjörður Airport|          Hofn|Iceland|\n",
      "|       14|     Húsavík Airport|       Husavik|Iceland|\n",
      "|       15|  Ísafjörður Airport|    Isafjordur|Iceland|\n",
      "|       16|Keflavik Internat...|      Keflavik|Iceland|\n",
      "|       17|Patreksfjörður Ai...|Patreksfjordur|Iceland|\n",
      "|       18|   Reykjavik Airport|     Reykjavik|Iceland|\n",
      "|       19|Siglufjörður Airport|  Siglufjordur|Iceland|\n",
      "|       20|Vestmannaeyjar Ai...|Vestmannaeyjar|Iceland|\n",
      "|     4321|       Bakki Airport|         Bakki|Iceland|\n",
      "|     5450|     Grímsey Airport|       Grímsey|Iceland|\n",
      "|     5452|   Thorshofn Airport|     Thorshofn|Iceland|\n",
      "|     5453|Vopnafjörður Airport|  Vopnafjörður|Iceland|\n",
      "|     6867|  Reykjahlíð Airport|        Myvatn|Iceland|\n",
      "|     7464|  Bildudalur Airport|    Bildudalur|Iceland|\n",
      "|     7465|      Gjögur Airport|        Gjogur|Iceland|\n",
      "|     7466|Sauðárkrókur Airport|  Saudarkrokur|Iceland|\n",
      "|     7467|     Selfoss Airport|       Selfoss|Iceland|\n",
      "|     9394| Norðfjörður Airport|   Nordfjordur|Iceland|\n",
      "+---------+--------------------+--------------+-------+\n",
      "only showing top 20 rows\n",
      "\n",
      "execution time:  1.0978260040283203\n"
     ]
    }
   ],
   "source": [
    "find1 = input(\"Enter country: \")\n",
    "# check execution time\n",
    "start = time.time()\n",
    "first = spark.sql(f\"SELECT AirportID, Name, City, Country \\\n",
    "    FROM airports1\")\n",
    "p1 = first.filter(first.Country.like(f\"{find1}\")) \n",
    "p1.show()\n",
    "print(\"execution time: \", time.time() - start) \n"
   ]
  },
  {
   "cell_type": "markdown",
   "id": "982cf495",
   "metadata": {},
   "source": [
    "### Problem 2\n",
    "#### Given a number of stops X, provide a list of airlines having X stops."
   ]
  },
  {
   "cell_type": "code",
   "execution_count": 34,
   "id": "4cd48b06",
   "metadata": {
    "scrolled": true
   },
   "outputs": [
    {
     "name": "stdout",
     "output_type": "stream",
     "text": [
      "Enter num of stop: 1\n"
     ]
    },
    {
     "name": "stderr",
     "output_type": "stream",
     "text": [
      "                                                                                \r"
     ]
    },
    {
     "name": "stdout",
     "output_type": "stream",
     "text": [
      "+---------+--------------------+-----+\n",
      "|AirlineID|                Name|Stops|\n",
      "+---------+--------------------+-----+\n",
      "|      330|          Air Canada|    1|\n",
      "|     1316|     AirTran Airways|    1|\n",
      "|     1623|      Canadian North|    1|\n",
      "|     1936|  Cubana de Aviación|    1|\n",
      "|     4319|Scandinavian Airl...|    1|\n",
      "|     4547|  Southwest Airlines|    1|\n",
      "+---------+--------------------+-----+\n",
      "\n",
      "execution time:  2.6784818172454834\n"
     ]
    }
   ],
   "source": [
    "find2 = input(\"Enter num of stop: \")\n",
    "# check execution time\n",
    "start = time.time()\n",
    "second = spark.sql(f\"SELECT DISTINCT airlines1.AirlineID, \\\n",
    "    Name, Stops FROM airlines1, routes1 \\\n",
    "    WHERE airlines1.AirlineID = routes1.AirlineID\\\n",
    "    ORDER BY airlines1.AirlineID\")\n",
    "p2 = second.filter(second.Stops.like(f\"{find2}\"))\n",
    "p2.show()\n",
    "print(\"execution time: \", time.time() - start) \n"
   ]
  },
  {
   "cell_type": "markdown",
   "id": "140fc20f",
   "metadata": {},
   "source": [
    "### Problem 3\n",
    "#### Given a code share X for airlines, provide a list of airlines operating with code share X."
   ]
  },
  {
   "cell_type": "markdown",
   "id": "23fc0c63",
   "metadata": {},
   "source": [
    "doing:  \n",
    "output: airlines1.AirlineID, Name, Country, Codeshare  \n",
    "routes1: Codeshare (Given), AirlineID (join)  \n",
    "airlines1: AirlineID (join), Name, Country"
   ]
  },
  {
   "cell_type": "code",
   "execution_count": 35,
   "id": "6f706226",
   "metadata": {},
   "outputs": [
    {
     "name": "stdout",
     "output_type": "stream",
     "text": [
      "Enter Codeshare (Y or N): Y\n"
     ]
    },
    {
     "name": "stderr",
     "output_type": "stream",
     "text": [
      "                                                                                \r"
     ]
    },
    {
     "name": "stdout",
     "output_type": "stream",
     "text": [
      "+---------+--------------------+-----------------+---------+\n",
      "|AirlineID|                Name|          Country|Codeshare|\n",
      "+---------+--------------------+-----------------+---------+\n",
      "|       24|   American Airlines|    United States|        Y|\n",
      "|       28|     Asiana Airlines|Republic of Korea|        Y|\n",
      "|       90|          Air Europa|            Spain|        Y|\n",
      "|       96|     Aegean Airlines|           Greece|        Y|\n",
      "|      116|           Air Italy|            Italy|        Y|\n",
      "|      130|Aeroflot Russian ...|           Russia|        Y|\n",
      "|      137|          Air France|           France|        Y|\n",
      "|      197| Azerbaijan Airlines|       Azerbaijan|        Y|\n",
      "|      214|          Air Berlin|          Germany|        Y|\n",
      "|      218|   Air India Limited|            India|        Y|\n",
      "|      225|      Air Tahiti Nui|           France|        Y|\n",
      "|      240|             Air One|            Italy|        Y|\n",
      "|      241|          Air Sahara|            India|        Y|\n",
      "|      242|           Air Malta|            Malta|        Y|\n",
      "|      316|           Air Macau|            Macao|        Y|\n",
      "|      319|      Air Seychelles|       Seychelles|        Y|\n",
      "|      321|          AeroMéxico|           Mexico|        Y|\n",
      "|      324|  All Nippon Airways|            Japan|        Y|\n",
      "|      330|          Air Canada|           Canada|        Y|\n",
      "|      333|          Air Baltic|           Latvia|        Y|\n",
      "+---------+--------------------+-----------------+---------+\n",
      "only showing top 20 rows\n",
      "\n",
      "execution time:  2.470148801803589\n"
     ]
    }
   ],
   "source": [
    "find3 = input(\"Enter Codeshare (Y or N): \")\n",
    "# check execution time\n",
    "start = time.time()\n",
    "third = spark.sql(f\"SELECT DISTINCT airlines1.AirlineID, Name, Country, Codeshare\\\n",
    "    FROM airlines1, routes1\\\n",
    "    WHERE airlines1.AirlineID = routes1.AirlineID\\\n",
    "    ORDER BY airlines1.AirlineID\") \n",
    "p3 = third.filter(third.Codeshare.like(f\"{find3}\"))\n",
    "p3.show()\n",
    "print(\"execution time: \", time.time() - start) \n",
    "\n"
   ]
  },
  {
   "cell_type": "markdown",
   "id": "e6c5b85a",
   "metadata": {},
   "source": [
    "### Problem 4\n",
    "#### Given the option to display active airlines, provide a list of active airlines if selected."
   ]
  },
  {
   "cell_type": "markdown",
   "id": "b645cafd",
   "metadata": {},
   "source": [
    "doing:   \n",
    "output: airlines1.AirlineID, Name, Country, Active  \n",
    "airlines1: AirlineID, Name, Country, Active"
   ]
  },
  {
   "cell_type": "code",
   "execution_count": 36,
   "id": "6a422e93",
   "metadata": {
    "scrolled": true
   },
   "outputs": [
    {
     "name": "stdout",
     "output_type": "stream",
     "text": [
      "Enter active (Y or N): Y\n",
      "+---------+--------------------+--------------------+------+\n",
      "|AirlineID|                Name|             Country|Active|\n",
      "+---------+--------------------+--------------------+------+\n",
      "|        1|      Private flight|                 N/A|     Y|\n",
      "|        3|       1Time Airline|        South Africa|     Y|\n",
      "|       10|         40-Mile Air|       United States|     Y|\n",
      "|       13|    Ansett Australia|           Australia|     Y|\n",
      "|       14|Abacus International|           Singapore|     Y|\n",
      "|       21|          Aigle Azur|              France|     Y|\n",
      "|       22|      Aloha Airlines|       United States|     Y|\n",
      "|       24|   American Airlines|       United States|     Y|\n",
      "|       28|     Asiana Airlines|   Republic of Korea|     Y|\n",
      "|       29|     Askari Aviation|            Pakistan|     Y|\n",
      "|       32|   Afriqiyah Airways|               Libya|     Y|\n",
      "|       35|       Allegiant Air|       United States|     Y|\n",
      "|       42|ABSA - Aerolinhas...|              Brazil|     Y|\n",
      "|       55|     Astral Aviation|               Kenya|     Y|\n",
      "|       68|           Air Tindi|Canadian Territories|     Y|\n",
      "|       72|             Ada Air|             Albania|     Y|\n",
      "|       83|       Adria Airways|            Slovenia|     Y|\n",
      "|       90|          Air Europa|               Spain|     Y|\n",
      "|       93|          Aero Benin|               Benin|     Y|\n",
      "|       96|     Aegean Airlines|              Greece|     Y|\n",
      "+---------+--------------------+--------------------+------+\n",
      "only showing top 20 rows\n",
      "\n",
      "execution time:  0.7608802318572998\n"
     ]
    }
   ],
   "source": [
    "find4 = input(\"Enter active (Y or N): \")\n",
    "# check execution time\n",
    "start = time.time()\n",
    "fourth = spark.sql(f\"SELECT AirlineID, Name, Country, Active\\\n",
    "    FROM airlines1\\\n",
    "    ORDER BY AirlineID\") \n",
    "p4 = fourth.filter(fourth.Active.like(f\"{find4}\"))\n",
    "p4.show()\n",
    "print(\"execution time: \", time.time() - start) \n",
    "\n"
   ]
  },
  {
   "cell_type": "markdown",
   "id": "054522f0",
   "metadata": {},
   "source": [
    "### Problem 5\n",
    "#### Given the option to display the country or territory with the highest number of airports, provide the country or territory with the highest number of airports if selected."
   ]
  },
  {
   "cell_type": "markdown",
   "id": "97650006",
   "metadata": {},
   "source": [
    "doing:  \n",
    "Given: Country or territory  \n",
    "input:   \n",
    "airports1: airports1.Country (join), airports1.AirportID, airports1.Name  \n",
    "airlines1: airlines1.Country (join)  \n",
    "countries1: name (join)  \n",
    "output:  \n",
    "Country (airports) , COUNT(airportName (airports)) * Highest 10"
   ]
  },
  {
   "cell_type": "code",
   "execution_count": 37,
   "id": "21b3eaa7",
   "metadata": {},
   "outputs": [
    {
     "name": "stdout",
     "output_type": "stream",
     "text": [
      "+--------------+------+\n",
      "|       Country|Result|\n",
      "+--------------+------+\n",
      "| United States|  1512|\n",
      "|        Canada|   430|\n",
      "|     Australia|   334|\n",
      "|         India|   296|\n",
      "|        Russia|   264|\n",
      "|        Brazil|   264|\n",
      "|       Germany|   249|\n",
      "|         China|   241|\n",
      "|        France|   217|\n",
      "|United Kingdom|   167|\n",
      "+--------------+------+\n",
      "\n",
      "execution time:  1.463404893875122\n"
     ]
    }
   ],
   "source": [
    "# check execution time\n",
    "start = time.time()\n",
    "fifth = spark.sql(f\"SELECT airports1.Country, COUNT(airportID) as Result\\\n",
    "    FROM airports1, countries1\\\n",
    "    WHERE airports1.Country = countries1.name\\\n",
    "    GROUP BY airports1.Country\\\n",
    "    HAVING COUNT(airportID)\\\n",
    "    ORDER BY Result DESC\\\n",
    "    LIMIT 10\") \n",
    "fifth.show()\n",
    "print(\"execution time: \", time.time() - start) \n",
    "\n"
   ]
  },
  {
   "cell_type": "code",
   "execution_count": 38,
   "id": "32404561",
   "metadata": {},
   "outputs": [
    {
     "name": "stdout",
     "output_type": "stream",
     "text": [
      "Enter Country: Canada\n",
      "+---------+------+\n",
      "|     City|Result|\n",
      "+---------+------+\n",
      "|Vancouver|     5|\n",
      "|  Toronto|     4|\n",
      "|   Ottawa|     3|\n",
      "| Victoria|     3|\n",
      "| Montreal|     3|\n",
      "|   Kenora|     2|\n",
      "|Deer Lake|     2|\n",
      "|  Nanaimo|     2|\n",
      "| Edmonton|     2|\n",
      "|Lutselk'e|     2|\n",
      "+---------+------+\n",
      "\n",
      "execution time:  1.781637191772461\n"
     ]
    }
   ],
   "source": [
    "# given country and find the highest num (top10) of airports in each cities\n",
    "find5 = input(\"Enter Country: \")\n",
    "# check execution time\n",
    "start = time.time()\n",
    "fifth1 = spark.sql(f\"SELECT airports1.City, COUNT(airportID) as Result\\\n",
    "    FROM airports1, countries1\\\n",
    "    WHERE airports1.Country = countries1.name AND airports1.Country LIKE '{find5}'\\\n",
    "    GROUP BY airports1.City\\\n",
    "    HAVING COUNT(airportID)\\\n",
    "    ORDER BY Result DESC\\\n",
    "    LIMIT 10\")\n",
    "fifth1.show()\n",
    "print(\"execution time: \", time.time() - start)\n",
    "# convert pandas dataframe\n",
    "fifth1_df = fifth1.toPandas()"
   ]
  },
  {
   "cell_type": "code",
   "execution_count": 39,
   "id": "580ebe5d",
   "metadata": {},
   "outputs": [
    {
     "data": {
      "image/png": "[encoded data removed]",
      "text/plain": [
       "<Figure size 432x432 with 1 Axes>"
      ]
     },
     "metadata": {
      "image/png": {
       "height": 374,
       "width": 391
      }
     },
     "output_type": "display_data"
    }
   ],
   "source": [
    "# visualize\n",
    "warnings.filterwarnings(action='ignore')\n",
    "fig = plt.figure(figsize=(6,6))\n",
    "plt.axis('equal')\n",
    "set_matplotlib_formats('retina')\n",
    "plt.pie(fifth1_df['Result'], labels=fifth1_df['City'],\n",
    "       startangle=90, autopct='%1.1f%%')\n",
    "plt.title(\"Top 10 Cities\\nHighest number of Airports\", fontsize=15, fontweight='bold')\n",
    "plt.show()"
   ]
  },
  {
   "cell_type": "markdown",
   "id": "72458222",
   "metadata": {},
   "source": [
    "### Problem 6\n",
    "#### Given a number of cities X, provide the top X cities with the most incoming and outgoing airlines."
   ]
  },
  {
   "cell_type": "markdown",
   "id": "bf5f90dd",
   "metadata": {},
   "source": [
    "Given:  \n",
    "airports1(City) \n",
    "\n",
    "input:  \n",
    "countries1(name)  \n",
    "airlines1(AirlineID, Name, Country)\n",
    "       airports1(Name,City,Country,AirportID)  \n",
    "       routes1(AirlineID, DestinationAirportID,SourceAirportID)  \n",
    "       \n",
    "output: Country, City, Result\n"
   ]
  },
  {
   "cell_type": "code",
   "execution_count": 40,
   "id": "59650ba0",
   "metadata": {},
   "outputs": [
    {
     "name": "stdout",
     "output_type": "stream",
     "text": [
      "Enter num of cities: 5\n"
     ]
    },
    {
     "name": "stderr",
     "output_type": "stream",
     "text": [
      "                                                                                \r"
     ]
    },
    {
     "name": "stdout",
     "output_type": "stream",
     "text": [
      "+--------+--------+\n",
      "|    City|incoming|\n",
      "+--------+--------+\n",
      "|  London|    1224|\n",
      "| Atlanta|     911|\n",
      "|   Paris|     720|\n",
      "| Chicago|     680|\n",
      "|Shanghai|     620|\n",
      "+--------+--------+\n",
      "\n",
      "execution time:  2.554175853729248\n"
     ]
    },
    {
     "name": "stderr",
     "output_type": "stream",
     "text": [
      "                                                                                \r"
     ]
    },
    {
     "name": "stdout",
     "output_type": "stream",
     "text": [
      "+--------+--------+\n",
      "|    City|outgoing|\n",
      "+--------+--------+\n",
      "|  London|    1232|\n",
      "| Atlanta|     915|\n",
      "|   Paris|     725|\n",
      "| Chicago|     695|\n",
      "|Shanghai|     616|\n",
      "+--------+--------+\n",
      "\n",
      "execution time:  2.6035547256469727\n"
     ]
    },
    {
     "name": "stderr",
     "output_type": "stream",
     "text": [
      "                                                                                \r"
     ]
    },
    {
     "name": "stdout",
     "output_type": "stream",
     "text": [
      "+--------+------+\n",
      "|    City|Result|\n",
      "+--------+------+\n",
      "|  London|  2456|\n",
      "| Atlanta|  1826|\n",
      "|   Paris|  1445|\n",
      "| Chicago|  1375|\n",
      "|Shanghai|  1236|\n",
      "+--------+------+\n",
      "\n",
      "execution time:  3.673449993133545\n"
     ]
    },
    {
     "name": "stderr",
     "output_type": "stream",
     "text": [
      "                                                                                \r"
     ]
    }
   ],
   "source": [
    "find6_0 = input(\"Enter num of cities: \")\n",
    "# check execution time\n",
    "start = time.time()\n",
    "## incoming\n",
    "sixth1_0 = spark.sql(f\"SELECT airports1.City, COUNT(routes1.AirlineID) as incoming \\\n",
    "    FROM routes1, airlines1, countries1, airports1 \\\n",
    "    WHERE countries1.Name = airports1.Country AND \\\n",
    "    routes1.DestinationAirportID = airports1.AirportID AND \\\n",
    "    airlines1.AirlineID = routes1.AirlineID \\\n",
    "    GROUP BY airports1.City \\\n",
    "    ORDER BY incoming DESC \\\n",
    "    LIMIT {find6_0}\")\n",
    "sixth1_0.show()\n",
    "print(\"execution time: \", time.time() - start)\n",
    "sixth1_0.createOrReplaceTempView(\"sixth1_0\")\n",
    "\n",
    "# check execution time\n",
    "start = time.time()\n",
    "## outgoing\n",
    "sixth2_0 = spark.sql(f\"SELECT airports1.City, COUNT(routes1.AirlineID) as outgoing \\\n",
    "    FROM routes1, airlines1, countries1, airports1 \\\n",
    "    WHERE countries1.Name = airports1.Country AND \\\n",
    "    routes1.SourceAirportID = airports1.AirportID AND \\\n",
    "    airlines1.AirlineID = routes1.AirlineID \\\n",
    "    GROUP BY airports1.City \\\n",
    "    ORDER BY outgoing DESC \\\n",
    "    LIMIT {find6_0}\")\n",
    "sixth2_0.show()\n",
    "print(\"execution time: \", time.time() - start)\n",
    "sixth2_0.createOrReplaceTempView(\"sixth2_0\")\n",
    "\n",
    "## incoming + outgoing\n",
    "# check execution time\n",
    "start = time.time()\n",
    "sixth3_0 = spark.sql(f\"SELECT sixth1_0.City, (incoming + outgoing) as Result \\\n",
    "    FROM sixth1_0, sixth2_0 \\\n",
    "    WHERE sixth1_0.City = sixth2_0.City \\\n",
    "    ORDER BY Result DESC \\\n",
    "    LIMIT {find6_0}\")\n",
    "sixth3_0.show()\n",
    "print(\"execution time: \", time.time() - start)\n",
    "# convert pandas dataframe\n",
    "sixth3_0_df = sixth3_0.toPandas()"
   ]
  },
  {
   "cell_type": "code",
   "execution_count": 41,
   "id": "5f206579",
   "metadata": {},
   "outputs": [
    {
     "data": {
      "image/png": "[encoded data removed]",
      "text/plain": [
       "<Figure size 432x432 with 1 Axes>"
      ]
     },
     "metadata": {
      "image/png": {
       "height": 374,
       "width": 368
      }
     },
     "output_type": "display_data"
    }
   ],
   "source": [
    "# visualize\n",
    "warnings.filterwarnings(action='ignore')\n",
    "cnum = sixth3_0_df['City'].count()\n",
    "fig = plt.figure(figsize=(6,6))\n",
    "plt.axis('equal')\n",
    "set_matplotlib_formats('retina')\n",
    "plt.pie(sixth3_0_df['Result'], labels=sixth3_0_df['City'],\n",
    "       startangle=90, autopct='%1.1f%%')\n",
    "plt.title(f'Top {cnum}\\nIncoming & Outgoing', fontsize=15, fontweight='bold')\n",
    "plt.show()"
   ]
  },
  {
   "cell_type": "code",
   "execution_count": 42,
   "id": "f98b0041",
   "metadata": {},
   "outputs": [
    {
     "name": "stdout",
     "output_type": "stream",
     "text": [
      "Enter City: London\n"
     ]
    },
    {
     "name": "stderr",
     "output_type": "stream",
     "text": [
      "                                                                                \r"
     ]
    },
    {
     "name": "stdout",
     "output_type": "stream",
     "text": [
      "+---------+--------------------+--------+\n",
      "|AirlineID|                Name|incoming|\n",
      "+---------+--------------------+--------+\n",
      "|     1355|     British Airways|     194|\n",
      "|     2297|             easyJet|     158|\n",
      "|     4296|             Ryanair|     147|\n",
      "|       24|   American Airlines|      98|\n",
      "|     2822|     Iberia Airlines|      68|\n",
      "|     8745|    Transavia France|      62|\n",
      "|      220|         Air Bourbon|      37|\n",
      "|     5347|Virgin Atlantic A...|      36|\n",
      "|     2350|             Finnair|      31|\n",
      "|     3737|Norwegian Air Shu...|      30|\n",
      "+---------+--------------------+--------+\n",
      "\n",
      "execution time:  2.0832650661468506\n",
      "+---------+--------------------+--------+\n",
      "|AirlineID|                Name|outgoing|\n",
      "+---------+--------------------+--------+\n",
      "|     1355|     British Airways|     193|\n",
      "|     2297|             easyJet|     158|\n",
      "|     4296|             Ryanair|     147|\n",
      "|       24|   American Airlines|      97|\n",
      "|     8745|    Transavia France|      70|\n",
      "|     2822|     Iberia Airlines|      68|\n",
      "|      220|         Air Bourbon|      37|\n",
      "|     5347|Virgin Atlantic A...|      36|\n",
      "|     2350|             Finnair|      30|\n",
      "|     3737|Norwegian Air Shu...|      30|\n",
      "+---------+--------------------+--------+\n",
      "\n",
      "execution time:  1.4136908054351807\n"
     ]
    },
    {
     "name": "stderr",
     "output_type": "stream",
     "text": [
      "                                                                                \r"
     ]
    },
    {
     "name": "stdout",
     "output_type": "stream",
     "text": [
      "+---------+--------------------+------+\n",
      "|AirlineID|                Name|Result|\n",
      "+---------+--------------------+------+\n",
      "|     1355|     British Airways|   387|\n",
      "|     2297|             easyJet|   316|\n",
      "|     4296|             Ryanair|   294|\n",
      "|       24|   American Airlines|   195|\n",
      "|     2822|     Iberia Airlines|   136|\n",
      "|     8745|    Transavia France|   132|\n",
      "|      220|         Air Bourbon|    74|\n",
      "|     5347|Virgin Atlantic A...|    72|\n",
      "|     2350|             Finnair|    61|\n",
      "|     3737|Norwegian Air Shu...|    60|\n",
      "+---------+--------------------+------+\n",
      "\n",
      "execution time:  2.742072105407715\n"
     ]
    }
   ],
   "source": [
    "# given city\n",
    "find6 = input(\"Enter City: \")\n",
    "## incoming\n",
    "# check execution time\n",
    "start = time.time()\n",
    "# highest tot num of incoming airline in city\n",
    "sixth1_1 = spark.sql(f\"SELECT airlines1.AirlineID, airlines1.Name, COUNT(routes1.AirlineID) as incoming \\\n",
    "    FROM routes1, airports1, airlines1, countries1 \\\n",
    "    WHERE countries1.Name = airports1.Country AND \\\n",
    "    routes1.DestinationAirportID = airports1.AirportID AND \\\n",
    "    airlines1.AirlineID = routes1.AirlineID AND \\\n",
    "    airports1.City LIKE '{find6}' \\\n",
    "    GROUP BY airlines1.AirlineID, airlines1.Name \\\n",
    "    ORDER BY incoming DESC \\\n",
    "    LIMIT 10\")\n",
    "sixth1_1.show()\n",
    "print(\"execution time: \", time.time() - start)\n",
    "sixth1_1.createOrReplaceTempView(\"sixth1_1\")\n",
    "\n",
    "## outgoing\n",
    "# check execution time\n",
    "start = time.time()\n",
    "# highest tot num of outgoing airline in city\n",
    "sixth1_2 = spark.sql(f\"SELECT airlines1.AirlineID, airlines1.Name, COUNT(routes1.AirlineID) as outgoing \\\n",
    "    FROM routes1, airports1, airlines1, countries1 \\\n",
    "    WHERE countries1.Name = airports1.Country AND \\\n",
    "    routes1.SourceAirportID = airports1.AirportID AND \\\n",
    "    airlines1.AirlineID = routes1.AirlineID AND \\\n",
    "    airports1.City LIKE '{find6}' \\\n",
    "    GROUP BY airlines1.AirlineID, airlines1.Name \\\n",
    "    ORDER BY outgoing DESC \\\n",
    "    LIMIT 10\")\n",
    "sixth1_2.show()\n",
    "print(\"execution time: \", time.time() - start)\n",
    "sixth1_2.createOrReplaceTempView(\"sixth1_2\")\n",
    "\n",
    "## incoming + outgoing\n",
    "# check execution time\n",
    "start = time.time()\n",
    "sixth3 = spark.sql(f\"SELECT sixth1_1.AirlineID, sixth1_1.Name, (incoming + outgoing) as Result \\\n",
    "    FROM sixth1_1, sixth1_2 \\\n",
    "    WHERE sixth1_1.AirlineID = sixth1_2.AirlineID \\\n",
    "    ORDER BY Result DESC \\\n",
    "    LIMIT 10\")\n",
    "sixth3.show()\n",
    "print(\"execution time: \", time.time() - start)\n",
    "\n"
   ]
  },
  {
   "cell_type": "markdown",
   "id": "25c0c311",
   "metadata": {},
   "source": [
    "### Problem 7\n",
    "#### Given two cities X and Y, provide a list of routes connecting cities X and Y."
   ]
  },
  {
   "cell_type": "markdown",
   "id": "3ae6fc1a",
   "metadata": {},
   "source": [
    "Given: (two cities x,y)  \n",
    "airports(City)\n",
    "\n",
    "input:  \n",
    "countries1(name)  \n",
    "airlines1(AirlineID, Name, Country, IATA)  \n",
    "airports1(Name,City,Country,AirportID, Timezone, IATA)  \n",
    "routes1(AirlineID, DestinationAirportID,SourceAirportID)  \n",
    "planes1(Name, IATA)\n",
    "       \n",
    "output: City1, City2, airports1(Name1), airports1(Name2), airlineID, airlines1(Name), planes1(Name), airports1(timezone1), airports1(timezone2)\n"
   ]
  },
  {
   "cell_type": "code",
   "execution_count": 43,
   "id": "827d0eb1",
   "metadata": {},
   "outputs": [],
   "source": [
    "# # given cities\n",
    "# # departure\n",
    "# find7_1 = input(\"Enter City (departure): \")\n",
    "# # arrive\n",
    "# find7_2 = input(\"Enter City (arrive): \")\n",
    "# # check execution time\n",
    "# start = time.time()\n",
    "# # find routes\n",
    "# seven1 = spark.sql(f\"SELECT airport1.city, airport2.city, airport1.name, airport2.name, airlineID, airlines1.name, planes1.name\\\n",
    "#     FROM airport1 airports1, airport2 airports1, airlines1, routes1, planes1, countries1\\\n",
    "#     WHERE \")\n",
    "# sixth1_1.show()\n",
    "# print(\"execution time: \", time.time() - start)\n",
    "\n"
   ]
  },
  {
   "cell_type": "markdown",
   "id": "92f0122f",
   "metadata": {},
   "source": [
    "### Problem 8\n",
    "#### Given two cities X and Y and a number of stops Z, provide a list of routes connecting cities X and Y with less than Z stops"
   ]
  },
  {
   "cell_type": "code",
   "execution_count": null,
   "id": "ddb016de",
   "metadata": {},
   "outputs": [],
   "source": []
  },
  {
   "cell_type": "markdown",
   "id": "7a151321",
   "metadata": {},
   "source": [
    "### Problem 9\n",
    "#### Given a city X and number of stops Y, provide a list of cities that can be reached from X within Y stops."
   ]
  },
  {
   "cell_type": "code",
   "execution_count": null,
   "id": "3dbd8a72",
   "metadata": {},
   "outputs": [],
   "source": []
  },
  {
   "cell_type": "markdown",
   "id": "bfe7a8ec",
   "metadata": {},
   "source": [
    "### Problem 10\n",
    "#### Given all routes, provide the transitive closure of the graph of all routes."
   ]
  },
  {
   "cell_type": "code",
   "execution_count": null,
   "id": "e579a372",
   "metadata": {},
   "outputs": [],
   "source": []
  },
  {
   "cell_type": "markdown",
   "id": "374b4feb",
   "metadata": {},
   "source": [
    "## Save Dataframe to Mongo"
   ]
  },
  {
   "cell_type": "code",
   "execution_count": 45,
   "id": "74094e80",
   "metadata": {},
   "outputs": [
    {
     "name": "stderr",
     "output_type": "stream",
     "text": [
      "\r",
      "[Stage 197:=========================================================(1 + 0) / 1]\r",
      "\r",
      "                                                                                \r"
     ]
    }
   ],
   "source": [
    "p1.select(\"AirportID\", \"Name\", \"City\", \"Country\").write.format('com.mongodb.spark.sql.DefaultSource')\\\n",
    "    .option( \"uri\", \"mongodb://127.0.0.1:27017/AirportsResult.Problem1\") \\\n",
    "    .save()\n"
   ]
  },
  {
   "cell_type": "code",
   "execution_count": 46,
   "id": "287d7d8b",
   "metadata": {},
   "outputs": [
    {
     "name": "stderr",
     "output_type": "stream",
     "text": [
      "\r",
      "[Stage 199:>                                                        (0 + 1) / 1]\r",
      "\r",
      "                                                                                \r"
     ]
    }
   ],
   "source": [
    "p2.select(\"AirlineID\", \"Name\", \"Stops\").write.format('com.mongodb.spark.sql.DefaultSource')\\\n",
    "    .option( \"uri\", \"mongodb://127.0.0.1:27017/AirportsResult.Problem2\") \\\n",
    "    .save()"
   ]
  },
  {
   "cell_type": "code",
   "execution_count": 47,
   "id": "0cdda707",
   "metadata": {},
   "outputs": [],
   "source": [
    "p3.select(\"AirlineID\", \"Name\", \"Country\", \"Codeshare\").write.format('com.mongodb.spark.sql.DefaultSource')\\\n",
    "    .option( \"uri\", \"mongodb://127.0.0.1:27017/AirportsResult.Problem3\") \\\n",
    "    .save()"
   ]
  },
  {
   "cell_type": "code",
   "execution_count": 48,
   "id": "a3635aaa",
   "metadata": {},
   "outputs": [],
   "source": [
    "p4.select(\"AirlineID\", \"Name\", \"Country\", \"Active\").write.format('com.mongodb.spark.sql.DefaultSource')\\\n",
    "    .option( \"uri\", \"mongodb://127.0.0.1:27017/AirportsResult.Problem4\") \\\n",
    "    .save()"
   ]
  },
  {
   "cell_type": "code",
   "execution_count": 49,
   "id": "3dddf1f3",
   "metadata": {},
   "outputs": [],
   "source": [
    "fifth.select(\"Country\", \"Result\").write.format('com.mongodb.spark.sql.DefaultSource')\\\n",
    "     .option( \"uri\", \"mongodb://127.0.0.1:27017/AirportsResult.Problem5\") \\\n",
    "     .save()\n",
    "\n"
   ]
  },
  {
   "cell_type": "code",
   "execution_count": 50,
   "id": "d4fa1ee4",
   "metadata": {},
   "outputs": [
    {
     "name": "stderr",
     "output_type": "stream",
     "text": [
      "\r",
      "[Stage 244:>                                                        (0 + 1) / 1]\r",
      "\r",
      "                                                                                \r"
     ]
    }
   ],
   "source": [
    "sixth3.select(\"AirlineID\", \"Name\", \"Result\").write.format('com.mongodb.spark.sql.DefaultSource')\\\n",
    "     .option( \"uri\", \"mongodb://127.0.0.1:27017/AirportsResult.Problem6\") \\\n",
    "     .save()"
   ]
  }
 ],
 "metadata": {
  "kernelspec": {
   "display_name": "pythonProject1",
   "language": "python",
   "name": "pythonproject1"
  },
  "language_info": {
   "codemirror_mode": {
    "name": "ipython",
    "version": 3
   },
   "file_extension": ".py",
   "mimetype": "text/x-python",
   "name": "python",
   "nbconvert_exporter": "python",
   "pygments_lexer": "ipython3",
   "version": "3.9.12"
  },
  "toc": {
   "base_numbering": 1,
   "nav_menu": {},
   "number_sections": true,
   "sideBar": true,
   "skip_h1_title": false,
   "title_cell": "Table of Contents",
   "title_sidebar": "Contents",
   "toc_cell": false,
   "toc_position": {},
   "toc_section_display": true,
   "toc_window_display": false
  },
  "varInspector": {
   "cols": {
    "lenName": 16,
    "lenType": 16,
    "lenVar": 40
   },
   "kernels_config": {
    "python": {
     "delete_cmd_postfix": "",
     "delete_cmd_prefix": "del ",
     "library": "var_list.py",
     "varRefreshCmd": "print(var_dic_list())"
    },
    "r": {
     "delete_cmd_postfix": ") ",
     "delete_cmd_prefix": "rm(",
     "library": "var_list.r",
     "varRefreshCmd": "cat(var_dic_list()) "
    }
   },
   "types_to_exclude": [
    "module",
    "function",
    "builtin_function_or_method",
    "instance",
    "_Feature"
   ],
   "window_display": false
  }
 },
 "nbformat": 4,
 "nbformat_minor": 5
}
