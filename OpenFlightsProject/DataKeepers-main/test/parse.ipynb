{
 "cells": [
  {
   "cell_type": "markdown",
   "id": "c5c54e17",
   "metadata": {},
   "source": [
    "#### Download datasets"
   ]
  },
  {
   "cell_type": "code",
   "execution_count": 3,
   "id": "be77e5e3",
   "metadata": {},
   "outputs": [],
   "source": [
    "# !wget https://raw.githubusercontent.com/jpatokal/openflights/master/data/airports.dat\n",
    "# !wget https://raw.githubusercontent.com/jpatokal/openflights/master/data/airlines.dat\n",
    "# !wget https://raw.githubusercontent.com/jpatokal/openflights/master/data/routes.dat\n",
    "# !wget https://raw.githubusercontent.com/jpatokal/openflights/master/data/planes.dat\n",
    "# !wget https://raw.githubusercontent.com/jpatokal/openflights/master/data/countries.dat\n"
   ]
  },
  {
   "cell_type": "markdown",
   "id": "dadbc7dd",
   "metadata": {},
   "source": [
    "#### Import module"
   ]
  },
  {
   "cell_type": "code",
   "execution_count": 2,
   "id": "3cef1b92",
   "metadata": {},
   "outputs": [],
   "source": [
    "import pandas as pd"
   ]
  },
  {
   "cell_type": "markdown",
   "id": "768b6154",
   "metadata": {},
   "source": [
    "#### Convert dat file to csv file"
   ]
  },
  {
   "cell_type": "code",
   "execution_count": 4,
   "id": "a4b258cd",
   "metadata": {},
   "outputs": [],
   "source": [
    "# airport\n",
    "airport = pd.read_csv('./datfile/airports.dat', header = None) # read dat file to csv\n",
    "airport.columns = ['AirportID', 'Name', 'City','Country', 'IATA','ICAO',\n",
    "             'Latitude','Longitude','Altitude','Timezone',\n",
    "             'DST','TzDatabase','Type','Source'] # set columns\n",
    "airport.to_csv('./dataset/airports.csv', index=None) # save csv file\n",
    "\n",
    "# airline\n",
    "airline = pd.read_csv('./datfile/airlines.dat', header = None) # read dat file to csv\n",
    "airline.columns = ['AirlineID', 'Name', 'Alias', 'IATA','ICAO',\n",
    "             'Callsign','Country','Active'] # set columns\n",
    "airline.to_csv('./dataset/airlines.csv', index=None) # save csv file\n",
    "\n",
    "# route\n",
    "route = pd.read_csv('./datfile/routes.dat', header = None) # read dat file to csv\n",
    "route.columns = ['Airline','AirlineID','SourceAirport','SourceAirportID',\n",
    "                'DestinationAirport','DestinationAirportID',\n",
    "                'Codeshare','Stops','Equipment'] # set columns\n",
    "route.to_csv('./dataset/routes.csv', index=None) # save csv file\n",
    "\n",
    "# Plane\n",
    "plane = pd.read_csv('./datfile/planes.dat', header = None) # read dat file to csv\n",
    "plane.columns = ['Name', 'IATA', 'ICAO'] # set columns\n",
    "plane.to_csv('./dataset/planes.csv', index=None) # save csv file\n",
    "\n",
    "# Country\n",
    "country = pd.read_csv('./datfile/countries.dat', header = None) # read dat file to csv\n",
    "country.columns = ['Name', 'ISO', 'DAFIF'] # set columns\n",
    "country.to_csv('./dataset/countries.csv', index=None) # save csv file\n",
    "\n"
   ]
  }
 ],
 "metadata": {
  "kernelspec": {
   "display_name": "Python 3 (ipykernel)",
   "language": "python",
   "name": "python3"
  },
  "language_info": {
   "codemirror_mode": {
    "name": "ipython",
    "version": 3
   },
   "file_extension": ".py",
   "mimetype": "text/x-python",
   "name": "python",
   "nbconvert_exporter": "python",
   "pygments_lexer": "ipython3",
   "version": "3.9.13"
  }
 },
 "nbformat": 4,
 "nbformat_minor": 5
}
